{
 "cells": [
  {
   "cell_type": "code",
   "execution_count": 47,
   "id": "6519ed75-0fd6-486b-a9d3-a3f914f08be3",
   "metadata": {
    "tags": []
   },
   "outputs": [],
   "source": [
    "s = 'shrub'\n",
    "t = 'tree'\n",
    "f = 'flower'\n",
    "g = 'grass'\n"
   ]
  },
  {
   "cell_type": "code",
   "execution_count": 2,
   "id": "7773e6bd-4d5e-486f-a1e5-f2f529f8dadf",
   "metadata": {
    "tags": []
   },
   "outputs": [
    {
     "data": {
      "text/plain": [
       "'shrubtree'"
      ]
     },
     "execution_count": 2,
     "metadata": {},
     "output_type": "execute_result"
    }
   ],
   "source": [
    "s + t "
   ]
  },
  {
   "cell_type": "code",
   "execution_count": 4,
   "id": "6d72511f-a568-44cd-9c08-324807f9eed6",
   "metadata": {
    "tags": []
   },
   "outputs": [
    {
     "data": {
      "text/plain": [
       "'shrubshrubshrubshrub'"
      ]
     },
     "execution_count": 4,
     "metadata": {},
     "output_type": "execute_result"
    }
   ],
   "source": [
    "s * 4"
   ]
  },
  {
   "cell_type": "code",
   "execution_count": 8,
   "id": "e8309045-6dd4-4a57-90e6-f8ba8442923a",
   "metadata": {
    "tags": []
   },
   "outputs": [
    {
     "name": "stdout",
     "output_type": "stream",
     "text": [
      "True False\n"
     ]
    }
   ],
   "source": [
    "#in, not in operator \n",
    "\n",
    "print(t in 'I like tall tree\\'s',t not in 'I like tall tree\\'s')"
   ]
  },
  {
   "cell_type": "code",
   "execution_count": 14,
   "id": "6e799792-8252-4932-83e1-7cf8146d4c38",
   "metadata": {
    "tags": []
   },
   "outputs": [
    {
     "name": "stdout",
     "output_type": "stream",
     "text": [
      "13 , 3\n"
     ]
    }
   ],
   "source": [
    "# len(), str(obj)\n",
    "\n",
    "print(len('i am a string'),',',str(3))"
   ]
  },
  {
   "cell_type": "code",
   "execution_count": 12,
   "id": "475fe991-6e1b-4603-b9f0-f63c08963ae6",
   "metadata": {
    "tags": []
   },
   "outputs": [
    {
     "data": {
      "text/plain": [
       "'36'"
      ]
     },
     "execution_count": 12,
     "metadata": {},
     "output_type": "execute_result"
    }
   ],
   "source": [
    "str(36)"
   ]
  },
  {
   "cell_type": "markdown",
   "id": "c95e463b-836d-4393-a2da-f3f01a88d9a0",
   "metadata": {},
   "source": [
    "### indexing "
   ]
  },
  {
   "cell_type": "code",
   "execution_count": 15,
   "id": "e264dab0-efe1-412e-9da1-830dfc116f86",
   "metadata": {
    "tags": []
   },
   "outputs": [
    {
     "data": {
      "text/plain": [
       "'b'"
      ]
     },
     "execution_count": 15,
     "metadata": {},
     "output_type": "execute_result"
    }
   ],
   "source": [
    "s[len(s)-1]"
   ]
  },
  {
   "cell_type": "code",
   "execution_count": 16,
   "id": "94ee1089-0ee0-421e-935a-fb59b711b230",
   "metadata": {
    "tags": []
   },
   "outputs": [
    {
     "data": {
      "text/plain": [
       "'b'"
      ]
     },
     "execution_count": 16,
     "metadata": {},
     "output_type": "execute_result"
    }
   ],
   "source": [
    "s[-1]"
   ]
  },
  {
   "cell_type": "markdown",
   "id": "2f97c9c6-483e-40f3-99b6-898e14c424d6",
   "metadata": {},
   "source": [
    "### slicing \n",
    "\n"
   ]
  },
  {
   "cell_type": "code",
   "execution_count": 17,
   "id": "bd2e8fef-cd9a-4d75-8ffc-9ebb84c1baa1",
   "metadata": {
    "tags": []
   },
   "outputs": [
    {
     "data": {
      "text/plain": [
       "'shrub'"
      ]
     },
     "execution_count": 17,
     "metadata": {},
     "output_type": "execute_result"
    }
   ],
   "source": [
    "s"
   ]
  },
  {
   "cell_type": "code",
   "execution_count": 20,
   "id": "9ef2b1a5-9414-4929-8185-aa32c2be4613",
   "metadata": {
    "tags": []
   },
   "outputs": [
    {
     "name": "stdout",
     "output_type": "stream",
     "text": [
      "shrub hru\n"
     ]
    }
   ],
   "source": [
    "print(s[0:5],s[1:4])"
   ]
  },
  {
   "cell_type": "code",
   "execution_count": 23,
   "id": "c1ebb4fb-c1ff-4961-be3e-e964c401379c",
   "metadata": {
    "tags": []
   },
   "outputs": [
    {
     "name": "stdout",
     "output_type": "stream",
     "text": [
      "shrub\n"
     ]
    }
   ],
   "source": [
    "print(s[:3] + s[3:])"
   ]
  },
  {
   "cell_type": "code",
   "execution_count": 25,
   "id": "ed34defe-a36a-4812-8c52-c00ca0c3c924",
   "metadata": {
    "tags": []
   },
   "outputs": [
    {
     "data": {
      "text/plain": [
       "'shrub'"
      ]
     },
     "execution_count": 25,
     "metadata": {},
     "output_type": "execute_result"
    }
   ],
   "source": [
    "s[-6:5]"
   ]
  },
  {
   "cell_type": "code",
   "execution_count": 27,
   "id": "225c0ac9-fb6e-476e-834a-86fd76079ffe",
   "metadata": {
    "tags": []
   },
   "outputs": [
    {
     "data": {
      "text/plain": [
       "'foe'"
      ]
     },
     "execution_count": 27,
     "metadata": {},
     "output_type": "execute_result"
    }
   ],
   "source": [
    "#stride\n",
    "f[:len(f):2]"
   ]
  },
  {
   "cell_type": "code",
   "execution_count": 28,
   "id": "236336b7-c737-4b46-9ebc-31836cf27dfc",
   "metadata": {
    "tags": []
   },
   "outputs": [
    {
     "data": {
      "text/plain": [
       "'rewolf'"
      ]
     },
     "execution_count": 28,
     "metadata": {},
     "output_type": "execute_result"
    }
   ],
   "source": [
    "#reversing a string \n",
    "f[::-1]"
   ]
  },
  {
   "cell_type": "markdown",
   "id": "5d815305-9270-4108-a313-c8d5ab03a6a8",
   "metadata": {},
   "source": [
    "### fstring "
   ]
  },
  {
   "cell_type": "code",
   "execution_count": 29,
   "id": "40f88a5e-501b-4cd2-8074-8af3fc6f567b",
   "metadata": {
    "tags": []
   },
   "outputs": [
    {
     "name": "stdout",
     "output_type": "stream",
     "text": [
      "A tree is taller than a flower\n"
     ]
    }
   ],
   "source": [
    "print(f'A {t} is taller than a {f}')"
   ]
  },
  {
   "cell_type": "markdown",
   "id": "da7d5a47-605e-4d06-a8dd-049e965a821c",
   "metadata": {},
   "source": [
    "### built-in string methods "
   ]
  },
  {
   "cell_type": "code",
   "execution_count": 48,
   "id": "9602b7e6-14b0-449d-999f-d7b27517b07b",
   "metadata": {
    "tags": []
   },
   "outputs": [
    {
     "data": {
      "text/plain": [
       "'shrug'"
      ]
     },
     "execution_count": 48,
     "metadata": {},
     "output_type": "execute_result"
    }
   ],
   "source": [
    "s = s.replace('b','g')\n",
    "s"
   ]
  },
  {
   "cell_type": "code",
   "execution_count": 49,
   "id": "acbe2542-131b-4b09-b51b-26a584fb4cf3",
   "metadata": {
    "tags": []
   },
   "outputs": [],
   "source": [
    "s = str(s)"
   ]
  },
  {
   "cell_type": "code",
   "execution_count": 51,
   "id": "c8524764-f4a8-4cc9-936b-f264415cc2a7",
   "metadata": {
    "tags": []
   },
   "outputs": [
    {
     "data": {
      "text/plain": [
       "'Shrug'"
      ]
     },
     "execution_count": 51,
     "metadata": {},
     "output_type": "execute_result"
    }
   ],
   "source": [
    "s.capitalize()"
   ]
  },
  {
   "cell_type": "code",
   "execution_count": 52,
   "id": "64b1c7eb-631e-42cb-aad0-3afe72a750ac",
   "metadata": {
    "tags": []
   },
   "outputs": [
    {
     "data": {
      "text/plain": [
       "'shrug'"
      ]
     },
     "execution_count": 52,
     "metadata": {},
     "output_type": "execute_result"
    }
   ],
   "source": [
    "s.lower()"
   ]
  },
  {
   "cell_type": "code",
   "execution_count": 57,
   "id": "d24a5ae1-f8f5-4c86-a11e-515574efed29",
   "metadata": {
    "tags": []
   },
   "outputs": [
    {
     "data": {
      "text/plain": [
       "'SHRUG'"
      ]
     },
     "execution_count": 57,
     "metadata": {},
     "output_type": "execute_result"
    }
   ],
   "source": [
    "s.upper()"
   ]
  },
  {
   "cell_type": "code",
   "execution_count": 58,
   "id": "f803a326-ffe1-4483-913d-a78dc8a2e745",
   "metadata": {
    "tags": []
   },
   "outputs": [
    {
     "data": {
      "text/plain": [
       "'SHRUG'"
      ]
     },
     "execution_count": 58,
     "metadata": {},
     "output_type": "execute_result"
    }
   ],
   "source": [
    "s.swapcase()"
   ]
  },
  {
   "cell_type": "code",
   "execution_count": 54,
   "id": "518aa4ab-58fe-4092-9097-e8797375cd70",
   "metadata": {
    "tags": []
   },
   "outputs": [],
   "source": [
    "x = f'A {t} is taller than a {f}'"
   ]
  },
  {
   "cell_type": "code",
   "execution_count": 56,
   "id": "c668c799-33c6-4668-8448-bfe992f73d51",
   "metadata": {
    "tags": []
   },
   "outputs": [
    {
     "data": {
      "text/plain": [
       "'A Tree Is Taller Than A Flower'"
      ]
     },
     "execution_count": 56,
     "metadata": {},
     "output_type": "execute_result"
    }
   ],
   "source": [
    "x.title()"
   ]
  },
  {
   "cell_type": "code",
   "execution_count": 59,
   "id": "61bb69ca-cfaa-4a47-9deb-a59ebc96dffb",
   "metadata": {
    "tags": []
   },
   "outputs": [
    {
     "data": {
      "text/plain": [
       "0"
      ]
     },
     "execution_count": 59,
     "metadata": {},
     "output_type": "execute_result"
    }
   ],
   "source": [
    "#returns inbdex where substring found, returns -1 if notfound\n",
    "'foo bar foo baz foo qux'.find('foo')\n",
    "\n",
    "#or do .index()\n",
    "#or .rfind() to find highest index where substring is found"
   ]
  },
  {
   "cell_type": "markdown",
   "id": "465c4627-8276-4e6b-85ae-2d518ee68fe0",
   "metadata": {},
   "source": [
    "### character classification "
   ]
  },
  {
   "cell_type": "code",
   "execution_count": 60,
   "id": "99c83984-2d2c-4d38-8603-cb30b0ad2fc6",
   "metadata": {
    "tags": []
   },
   "outputs": [
    {
     "data": {
      "text/plain": [
       "True"
      ]
     },
     "execution_count": 60,
     "metadata": {},
     "output_type": "execute_result"
    }
   ],
   "source": [
    "'abc123'.isalnum()\n",
    "\n",
    "#alphanumeric"
   ]
  },
  {
   "cell_type": "code",
   "execution_count": 61,
   "id": "48133d5a-b2de-40c8-a91f-f3a83e75baa9",
   "metadata": {
    "tags": []
   },
   "outputs": [
    {
     "data": {
      "text/plain": [
       "True"
      ]
     },
     "execution_count": 61,
     "metadata": {},
     "output_type": "execute_result"
    }
   ],
   "source": [
    "'ABCabc'.isalpha()"
   ]
  },
  {
   "cell_type": "code",
   "execution_count": 62,
   "id": "ace15fd4-69bf-4727-8999-4fd0ca91aed2",
   "metadata": {
    "tags": []
   },
   "outputs": [
    {
     "data": {
      "text/plain": [
       "True"
      ]
     },
     "execution_count": 62,
     "metadata": {},
     "output_type": "execute_result"
    }
   ],
   "source": [
    "'123'.isdigit()"
   ]
  },
  {
   "cell_type": "markdown",
   "id": "06935c82-026e-43ab-a0ce-072f8bb9d324",
   "metadata": {},
   "source": [
    "### formatting"
   ]
  },
  {
   "cell_type": "code",
   "execution_count": 63,
   "id": "98d65dea-69a6-412d-9077-466acb8ca787",
   "metadata": {
    "tags": []
   },
   "outputs": [
    {
     "data": {
      "text/plain": [
       "'---bar----'"
      ]
     },
     "execution_count": 63,
     "metadata": {},
     "output_type": "execute_result"
    }
   ],
   "source": [
    "'bar'.center(10, '-')"
   ]
  },
  {
   "cell_type": "code",
   "execution_count": 64,
   "id": "28e1ed7f-e7ce-4fbc-b6cd-872e81b658e3",
   "metadata": {
    "tags": []
   },
   "outputs": [
    {
     "data": {
      "text/plain": [
       "'foo bar baz   '"
      ]
     },
     "execution_count": 64,
     "metadata": {},
     "output_type": "execute_result"
    }
   ],
   "source": [
    "'   foo bar baz   '.lstrip()"
   ]
  },
  {
   "cell_type": "code",
   "execution_count": 66,
   "id": "22ccce6c-fa21-44ab-8225-bb8c5be54b55",
   "metadata": {
    "tags": []
   },
   "outputs": [
    {
     "data": {
      "text/plain": [
       "'   foo bar baz'"
      ]
     },
     "execution_count": 66,
     "metadata": {},
     "output_type": "execute_result"
    }
   ],
   "source": [
    "'   foo bar baz   '.rstrip()"
   ]
  },
  {
   "cell_type": "code",
   "execution_count": 65,
   "id": "f84bf3cc-ba82-40b9-b2e2-a972327ce447",
   "metadata": {
    "tags": []
   },
   "outputs": [
    {
     "data": {
      "text/plain": [
       "'grault bar grault baz grault qux'"
      ]
     },
     "execution_count": 65,
     "metadata": {},
     "output_type": "execute_result"
    }
   ],
   "source": [
    "'foo bar foo baz foo qux'.replace('foo', 'grault')"
   ]
  },
  {
   "cell_type": "code",
   "execution_count": 67,
   "id": "5ca4c6f8-2db4-4967-a4e9-474e462fa75d",
   "metadata": {
    "tags": []
   },
   "outputs": [
    {
     "data": {
      "text/plain": [
       "'realpython'"
      ]
     },
     "execution_count": 67,
     "metadata": {},
     "output_type": "execute_result"
    }
   ],
   "source": [
    "'www.realpython.com'.strip('w.moc')"
   ]
  },
  {
   "cell_type": "markdown",
   "id": "2d5a740b-1ce0-4b16-a658-cf9f563c63ae",
   "metadata": {},
   "source": [
    "### converting between strings and lists "
   ]
  },
  {
   "cell_type": "code",
   "execution_count": 68,
   "id": "6d3846be-794b-4114-bb2b-20c79214d54d",
   "metadata": {
    "tags": []
   },
   "outputs": [
    {
     "data": {
      "text/plain": [
       "'foo, bar, baz, qux'"
      ]
     },
     "execution_count": 68,
     "metadata": {},
     "output_type": "execute_result"
    }
   ],
   "source": [
    "', '.join(['foo', 'bar', 'baz', 'qux'])"
   ]
  },
  {
   "cell_type": "code",
   "execution_count": 71,
   "id": "e2e87578-aec0-400c-b262-7af4cc759ba7",
   "metadata": {
    "tags": []
   },
   "outputs": [
    {
     "data": {
      "text/plain": [
       "['c', 'o', 'r', 'g', 'e']"
      ]
     },
     "execution_count": 71,
     "metadata": {},
     "output_type": "execute_result"
    }
   ],
   "source": [
    "#create list from string\n",
    "\n",
    "list('corge')"
   ]
  },
  {
   "cell_type": "code",
   "execution_count": 70,
   "id": "b5be92a6-6326-4b0c-a01c-10beb1ad355f",
   "metadata": {
    "tags": []
   },
   "outputs": [
    {
     "data": {
      "text/plain": [
       "'c:o:r:g:e'"
      ]
     },
     "execution_count": 70,
     "metadata": {},
     "output_type": "execute_result"
    }
   ],
   "source": [
    "':'.join('corge')"
   ]
  },
  {
   "cell_type": "code",
   "execution_count": 72,
   "id": "8159a888-0e77-4b42-ac67-615864f6475a",
   "metadata": {
    "tags": []
   },
   "outputs": [
    {
     "data": {
      "text/plain": [
       "('foo', '.', 'bar')"
      ]
     },
     "execution_count": 72,
     "metadata": {},
     "output_type": "execute_result"
    }
   ],
   "source": [
    "#Divides a string based on a separator.\n",
    "'foo.bar'.partition('.')"
   ]
  },
  {
   "cell_type": "code",
   "execution_count": 74,
   "id": "1c7f5f41-b1da-4731-9d13-09dc9a85d326",
   "metadata": {
    "tags": []
   },
   "outputs": [
    {
     "data": {
      "text/plain": [
       "['foo', 'bar', 'baz', 'qux']"
      ]
     },
     "execution_count": 74,
     "metadata": {},
     "output_type": "execute_result"
    }
   ],
   "source": [
    "#USES WHITESPACE\n",
    "'foo bar baz qux'.rsplit()"
   ]
  },
  {
   "cell_type": "code",
   "execution_count": 75,
   "id": "2aa3e95e-65f6-438d-8df1-efc3c9c7aae2",
   "metadata": {
    "tags": []
   },
   "outputs": [
    {
     "data": {
      "text/plain": [
       "['foo', 'bar', 'baz', 'qux']"
      ]
     },
     "execution_count": 75,
     "metadata": {},
     "output_type": "execute_result"
    }
   ],
   "source": [
    "'foo.bar.baz.qux'.rsplit(sep='.')"
   ]
  },
  {
   "cell_type": "code",
   "execution_count": null,
   "id": "e49ebddf-c0c6-4b66-9c63-6ab0cae8defd",
   "metadata": {},
   "outputs": [],
   "source": []
  }
 ],
 "metadata": {
  "kernelspec": {
   "display_name": "Python 3 (ipykernel)",
   "language": "python",
   "name": "python3"
  },
  "language_info": {
   "codemirror_mode": {
    "name": "ipython",
    "version": 3
   },
   "file_extension": ".py",
   "mimetype": "text/x-python",
   "name": "python",
   "nbconvert_exporter": "python",
   "pygments_lexer": "ipython3",
   "version": "3.10.9"
  }
 },
 "nbformat": 4,
 "nbformat_minor": 5
}
