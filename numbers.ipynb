{
 "cells": [
  {
   "cell_type": "code",
   "execution_count": 5,
   "id": "07ff8722-11ca-4413-8402-6cfff28dec62",
   "metadata": {
    "tags": []
   },
   "outputs": [
    {
     "name": "stdin",
     "output_type": "stream",
     "text": [
      " 15\n"
     ]
    },
    {
     "name": "stdout",
     "output_type": "stream",
     "text": [
      "10\n"
     ]
    }
   ],
   "source": [
    "#incrementation\n",
    "num = int(input())\n",
    "\n",
    "num -= 5 \n",
    "\n",
    "print(num)\n"
   ]
  },
  {
   "cell_type": "code",
   "execution_count": 7,
   "id": "a760523b-7c4c-4d4a-be97-17300455349d",
   "metadata": {
    "tags": []
   },
   "outputs": [
    {
     "name": "stdout",
     "output_type": "stream",
     "text": [
      "15\n",
      "25.0\n"
     ]
    }
   ],
   "source": [
    "triple_up = 5 \n",
    "triple_up *= 3\n",
    "print(triple_up)\n",
    "\n",
    "quarter_value = 100\n",
    "quarter_value /= 4\n",
    "print(quarter_value)"
   ]
  },
  {
   "cell_type": "code",
   "execution_count": 8,
   "id": "d0f34b36-9879-4363-9f81-dec1837931f9",
   "metadata": {
    "tags": []
   },
   "outputs": [
    {
     "name": "stdout",
     "output_type": "stream",
     "text": [
      "0\n",
      "3\n"
     ]
    }
   ],
   "source": [
    "#modulo operator returns remainder \n",
    "print(4 % 2)\n",
    "\n",
    "#floor division returns int (removes float decimals)\n",
    "print(10 // 3)"
   ]
  },
  {
   "cell_type": "code",
   "execution_count": null,
   "id": "9e90416d-ae7e-4dda-9852-30a4fab75bca",
   "metadata": {},
   "outputs": [],
   "source": []
  }
 ],
 "metadata": {
  "kernelspec": {
   "display_name": "Python 3 (ipykernel)",
   "language": "python",
   "name": "python3"
  },
  "language_info": {
   "codemirror_mode": {
    "name": "ipython",
    "version": 3
   },
   "file_extension": ".py",
   "mimetype": "text/x-python",
   "name": "python",
   "nbconvert_exporter": "python",
   "pygments_lexer": "ipython3",
   "version": "3.10.9"
  }
 },
 "nbformat": 4,
 "nbformat_minor": 5
}
